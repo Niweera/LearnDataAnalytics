{
  "nbformat": 4,
  "nbformat_minor": 0,
  "metadata": {
    "colab": {
      "name": "ML_With_SciKit.ipynb",
      "provenance": [],
      "collapsed_sections": [],
      "include_colab_link": true
    },
    "kernelspec": {
      "name": "python3",
      "display_name": "Python 3"
    }
  },
  "cells": [
    {
      "cell_type": "markdown",
      "metadata": {
        "id": "view-in-github",
        "colab_type": "text"
      },
      "source": [
        "<a href=\"https://colab.research.google.com/github/Niweera/LearnDataAnalytics/blob/master/ML_With_SciKit.ipynb\" target=\"_parent\"><img src=\"https://colab.research.google.com/assets/colab-badge.svg\" alt=\"Open In Colab\"/></a>"
      ]
    },
    {
      "cell_type": "markdown",
      "metadata": {
        "id": "KFbUXwnV8Czh",
        "colab_type": "text"
      },
      "source": [
        "### Steps\n",
        "\n",
        "1. Seperate xlsx dataset file into train.csv and test.csv\n",
        "2. Import two data sets into keras\n",
        "3. Data pre-processing\n",
        "4. Data visualization\n",
        "5. Building the model\n",
        "6. Training the model\n",
        "7. Testing the model\n",
        "8. Get the confusion metrix\n",
        "9. Get the important metrics\n",
        "    1. Accuracy\n",
        "    2. Precision\n",
        "    3. Sensitivity\n",
        "    4. Specificity\n",
        "    5. Error Rate\n",
        "\n"
      ]
    },
    {
      "cell_type": "markdown",
      "metadata": {
        "id": "K9L0g66c3y1h",
        "colab_type": "text"
      },
      "source": [
        "Kernel Support Vector Machines Classification"
      ]
    },
    {
      "cell_type": "markdown",
      "metadata": {
        "id": "8VkqKSD7qeUw",
        "colab_type": "text"
      },
      "source": [
        "Data preprocessing"
      ]
    },
    {
      "cell_type": "code",
      "metadata": {
        "id": "eg10q8CBqgkk",
        "colab_type": "code",
        "colab": {}
      },
      "source": [
        "import numpy as np\n",
        "import matplotlib.pyplot as plt\n",
        "import pandas as pd\n",
        "from sklearn.preprocessing import OneHotEncoder, LabelEncoder, StandardScaler\n",
        "import os\n",
        "from sklearn.impute import SimpleImputer \n",
        "from sklearn.compose import ColumnTransformer\n",
        "from sklearn.linear_model import LogisticRegression\n",
        "from sklearn.metrics import confusion_matrix\n",
        "from sklearn.neighbors import KNeighborsClassifier\n",
        "from sklearn.svm import SVC\n",
        "from sklearn.model_selection import cross_val_score, GridSearchCV\n",
        "\n",
        "simpleImputer = SimpleImputer(missing_values=np.nan, strategy='mean')\n",
        "np.set_printoptions(precision=3, suppress=True,threshold=1000)"
      ],
      "execution_count": 0,
      "outputs": []
    },
    {
      "cell_type": "code",
      "metadata": {
        "id": "hpuyo7RdqxB8",
        "colab_type": "code",
        "colab": {}
      },
      "source": [
        "TRAIN_DATA_URL = \"https://raw.githubusercontent.com/Niweera/LearnDataAnalytics/master/datasets/1/train.csv\"\n",
        "TEST_DATA_URL = \"https://raw.githubusercontent.com/Niweera/LearnDataAnalytics/master/datasets/1/test.csv\"\n",
        "\n",
        "CSV_COLUMN_NAMES = [\"ID\",\"Age\",\"Gender\",\"TB\",\"DB\",\"ALK\",\"SGPT\",\"SGOT\",\"TP\",\"ALB\",\"AG_Ratio\",\"Class\"]\n",
        "\n",
        "LABEL_COLUMN = \"Class\"\n",
        "LABELS = [\"Yes\",\"No\"]\n",
        "\n",
        "CATEGORICAL_FEATURES = [\"Gender\",\"Class\"]\n",
        "NUMERIC_FEATURES = [\"Age\",\"TB\",\"DB\",\"ALK\",\"SGPT\",\"SGOT\",\"TP\",\"ALB\",\"AG_Ratio\"]\n",
        "\n",
        "train_dataset = pd.read_csv(TRAIN_DATA_URL, names=CSV_COLUMN_NAMES, header=0,index_col=False, usecols=CSV_COLUMN_NAMES[1:], na_values=\"?\")\n",
        "test_dataset = pd.read_csv(TEST_DATA_URL, names=CSV_COLUMN_NAMES, header=0,index_col=False, usecols=CSV_COLUMN_NAMES[1:], na_values=\"?\")"
      ],
      "execution_count": 0,
      "outputs": []
    },
    {
      "cell_type": "code",
      "metadata": {
        "id": "EkVQb1ra3erN",
        "colab_type": "code",
        "colab": {}
      },
      "source": [
        "print(train_dataset)\n",
        "print(test_dataset)"
      ],
      "execution_count": 0,
      "outputs": []
    },
    {
      "cell_type": "code",
      "metadata": {
        "id": "Sv6PIJ2p6Dr9",
        "colab_type": "code",
        "colab": {}
      },
      "source": [
        "X_train = train_dataset.iloc[:,:-1].values\n",
        "X_test = test_dataset.iloc[:,:-1].values\n",
        "\n",
        "y_train = train_dataset.iloc[:,10].values\n",
        "y_test = test_dataset.iloc[:,10].values"
      ],
      "execution_count": 0,
      "outputs": []
    },
    {
      "cell_type": "code",
      "metadata": {
        "id": "TCyi6MPc6VWe",
        "colab_type": "code",
        "colab": {}
      },
      "source": [
        "print(X_train)\n",
        "print()\n",
        "print(X_test)\n",
        "\n",
        "\n",
        "print()\n",
        "print()\n",
        "\n",
        "\n",
        "print(y_train)\n",
        "print()\n",
        "print(y_test)\n",
        "# [\"Female\",\"Male\",\"Age\",\"TB\",\"DB\",\"ALK\",\"SGPT\",\"SGOT\",\"TP\",\"ALB\",\"AG_Ratio\"]"
      ],
      "execution_count": 0,
      "outputs": []
    },
    {
      "cell_type": "code",
      "metadata": {
        "id": "pWDbhRBw-kQy",
        "colab_type": "code",
        "colab": {}
      },
      "source": [
        "for col in CSV_COLUMN_NAMES[1:]:\n",
        "  print(f'{col}: {train_dataset[col].isnull().values.any()}')"
      ],
      "execution_count": 0,
      "outputs": []
    },
    {
      "cell_type": "code",
      "metadata": {
        "id": "N4S2Oa-pACKB",
        "colab_type": "code",
        "colab": {}
      },
      "source": [
        "train_imputer = simpleImputer.fit(X_train[:,2:10])\n",
        "test_imputer = simpleImputer.fit(X_test[:,2:10])\n",
        "\n",
        "X_train[:,2:10] = train_imputer.transform(X_train[:,2:10])\n",
        "X_test[:,2:10] = test_imputer.transform(X_test[:,2:10])"
      ],
      "execution_count": 0,
      "outputs": []
    },
    {
      "cell_type": "code",
      "metadata": {
        "id": "EGaRgT7GqNf0",
        "colab_type": "code",
        "colab": {}
      },
      "source": [
        "ct = ColumnTransformer([(\"Name_Of_Your_Step\", OneHotEncoder(),[1])], remainder=\"passthrough\") \n",
        "X_train = ct.fit_transform(X_train) \n",
        "X_test = ct.fit_transform(X_test) "
      ],
      "execution_count": 0,
      "outputs": []
    },
    {
      "cell_type": "code",
      "metadata": {
        "id": "eqR4NV5osgsO",
        "colab_type": "code",
        "colab": {}
      },
      "source": [
        "labelencoder = LabelEncoder()\n",
        "y_train = labelencoder.fit_transform(y_train) \n",
        "y_test = labelencoder.fit_transform(y_test) "
      ],
      "execution_count": 0,
      "outputs": []
    },
    {
      "cell_type": "code",
      "metadata": {
        "id": "h8TgXa4juxVh",
        "colab_type": "code",
        "colab": {}
      },
      "source": [
        "standardScalar = StandardScaler()\n",
        "X_train = standardScalar.fit_transform(X_train)\n",
        "X_test = standardScalar.fit_transform(X_test)"
      ],
      "execution_count": 0,
      "outputs": []
    },
    {
      "cell_type": "code",
      "metadata": {
        "id": "SoBJU9SMwzBe",
        "colab_type": "code",
        "colab": {}
      },
      "source": [
        "classifier = SVC(kernel=\"rbf\", random_state=0)\n",
        "classifier.fit(X_train,y_train)"
      ],
      "execution_count": 0,
      "outputs": []
    },
    {
      "cell_type": "code",
      "metadata": {
        "id": "4sIIsfjixNuF",
        "colab_type": "code",
        "colab": {}
      },
      "source": [
        "y_pred = classifier.predict(X_test)\n",
        "print(y_pred)"
      ],
      "execution_count": 0,
      "outputs": []
    },
    {
      "cell_type": "code",
      "metadata": {
        "id": "0hLOID7uxsxt",
        "colab_type": "code",
        "colab": {}
      },
      "source": [
        "cm = confusion_matrix(y_test,y_pred)\n",
        "print(cm)"
      ],
      "execution_count": 0,
      "outputs": []
    },
    {
      "cell_type": "markdown",
      "metadata": {
        "id": "icEBRu8ryhDv",
        "colab_type": "text"
      },
      "source": [
        "|   True Positive| False Positive  | \n",
        "|----------------|-----------------|\n",
        "|False Negative | True Negative|"
      ]
    },
    {
      "cell_type": "code",
      "metadata": {
        "id": "RG8f7DZCh6_4",
        "colab_type": "code",
        "colab": {}
      },
      "source": [
        "accuracies = cross_val_score(estimator=classifier,X=X_train,y=y_train,cv=100,n_jobs=-1)\n",
        "print(accuracies.mean())\n",
        "print(accuracies.std())"
      ],
      "execution_count": 0,
      "outputs": []
    },
    {
      "cell_type": "code",
      "metadata": {
        "id": "DjOnARsnh7ai",
        "colab_type": "code",
        "colab": {}
      },
      "source": [
        "parameters = [{\n",
        "    \"C\": np.arange(0.001, 0.700, 0.001),\n",
        "    \"kernel\": [\"rbf\"],\n",
        "    \"gamma\":np.arange(0.001, 0.500, 0.001)\n",
        "}]\n",
        "\n",
        "grid_search = GridSearchCV(estimator=classifier,param_grid=parameters,scoring=\"accuracy\",cv=100,n_jobs=-1)\n",
        "grid_search = grid_search.fit(X_train,y_train)\n",
        "grid_search"
      ],
      "execution_count": 0,
      "outputs": []
    },
    {
      "cell_type": "code",
      "metadata": {
        "id": "LO60ezt0l7yr",
        "colab_type": "code",
        "colab": {}
      },
      "source": [
        "grid_search.best_params_"
      ],
      "execution_count": 0,
      "outputs": []
    }
  ]
}