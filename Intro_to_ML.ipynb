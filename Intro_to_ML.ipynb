{
  "nbformat": 4,
  "nbformat_minor": 0,
  "metadata": {
    "colab": {
      "name": "Intro to ML.ipynb",
      "provenance": [],
      "collapsed_sections": [
        "xODXhCRPB9HD",
        "OSV3hUmQIDHG",
        "35NffG4ibpwn"
      ],
      "mount_file_id": "1E_1SaL_-RQxMWjZaCe2xbSP4YzZnR8He",
      "authorship_tag": "ABX9TyNQRh62YHz8U+T9Rc2RcUoO",
      "include_colab_link": true
    },
    "kernelspec": {
      "name": "python3",
      "display_name": "Python 3"
    }
  },
  "cells": [
    {
      "cell_type": "markdown",
      "metadata": {
        "id": "view-in-github",
        "colab_type": "text"
      },
      "source": [
        "<a href=\"https://colab.research.google.com/github/Niweera/LearnDataAnalytics/blob/master/Intro_to_ML.ipynb\" target=\"_parent\"><img src=\"https://colab.research.google.com/assets/colab-badge.svg\" alt=\"Open In Colab\"/></a>"
      ]
    },
    {
      "cell_type": "markdown",
      "metadata": {
        "id": "xODXhCRPB9HD",
        "colab_type": "text"
      },
      "source": [
        "# Module 1 - ML Fundamentals\n",
        "\n"
      ]
    },
    {
      "cell_type": "markdown",
      "metadata": {
        "id": "rArUOwyDihBe",
        "colab_type": "text"
      },
      "source": [
        "## AI\n",
        "\n",
        "The effort to automate intellectual tasks normally performed by humans.\n",
        "\n"
      ]
    },
    {
      "cell_type": "markdown",
      "metadata": {
        "id": "wsApgGACik2c",
        "colab_type": "text"
      },
      "source": [
        "### ML\n",
        "\n",
        "ML < AI\n",
        "\n",
        "Rather than giving the program the rules, an algorithm finds the rules for us.\n",
        "\n"
      ]
    },
    {
      "cell_type": "markdown",
      "metadata": {
        "id": "dI53ItPSina0",
        "colab_type": "text"
      },
      "source": [
        "## NN\n",
        "\n",
        "NN < ML < AI\n",
        "\n",
        "Neural Network is a form of machine learning that uses a layered representation of data.\n",
        "\n",
        "\n"
      ]
    },
    {
      "cell_type": "markdown",
      "metadata": {
        "id": "F16thDq_ipx-",
        "colab_type": "text"
      },
      "source": [
        "## Different Types of ML\n",
        "\n",
        "1. Unsupervised Learning\n",
        "2. Supervised Learning\n",
        "3. Reinforcement Learning"
      ]
    },
    {
      "cell_type": "markdown",
      "metadata": {
        "id": "OSV3hUmQIDHG",
        "colab_type": "text"
      },
      "source": [
        "# Module 2 - Intro to Tensorflow\n"
      ]
    },
    {
      "cell_type": "markdown",
      "metadata": {
        "id": "pIjT77d2JSxO",
        "colab_type": "text"
      },
      "source": [
        "Install Tensorflow"
      ]
    },
    {
      "cell_type": "code",
      "metadata": {
        "id": "5le5eYv8JObb",
        "colab_type": "code",
        "colab": {}
      },
      "source": [
        "pip install tensorflow"
      ],
      "execution_count": 0,
      "outputs": []
    },
    {
      "cell_type": "markdown",
      "metadata": {
        "id": "7lbwPh8rKGZ2",
        "colab_type": "text"
      },
      "source": [
        "Importing TensorFlow"
      ]
    },
    {
      "cell_type": "code",
      "metadata": {
        "id": "KAODqLUvKIjI",
        "colab_type": "code",
        "colab": {}
      },
      "source": [
        "%tensorflow_version 2.x # this line is required if you are in a notebook\n"
      ],
      "execution_count": 0,
      "outputs": []
    },
    {
      "cell_type": "code",
      "metadata": {
        "id": "ppyhkCrRKWWr",
        "colab_type": "code",
        "colab": {}
      },
      "source": [
        "import tensorflow as tf\n",
        "print(tf.version)"
      ],
      "execution_count": 0,
      "outputs": []
    },
    {
      "cell_type": "markdown",
      "metadata": {
        "id": "hDleSeHfLSrP",
        "colab_type": "text"
      },
      "source": [
        "Creating Tensors\n",
        "\n"
      ]
    },
    {
      "cell_type": "code",
      "metadata": {
        "id": "KH9vWXieLVhN",
        "colab_type": "code",
        "colab": {}
      },
      "source": [
        "string = tf.Variable(\"this is a string\",tf.string) # these are scalars\n",
        "number = tf.Variable(324, tf.int32)\n",
        "floating = tf.Variable(3.14, tf.float64)"
      ],
      "execution_count": 0,
      "outputs": []
    },
    {
      "cell_type": "markdown",
      "metadata": {
        "id": "ywdPwf_vL8Mh",
        "colab_type": "text"
      },
      "source": [
        "Rank/Degree of Tensors"
      ]
    },
    {
      "cell_type": "code",
      "metadata": {
        "id": "sBK80vo9Mlzn",
        "colab_type": "code",
        "colab": {}
      },
      "source": [
        "rank0_tensor = tf.Variable(\"Test\",tf.string)\n",
        "rank1_tensor = tf.Variable([\"Test\"],tf.string)\n",
        "rank2_tensor = tf.Variable([[\"test\",\"ok\"],[\"test\",\"yes\"]],tf.string)"
      ],
      "execution_count": 0,
      "outputs": []
    },
    {
      "cell_type": "markdown",
      "metadata": {
        "id": "89H7NxuVNFrQ",
        "colab_type": "text"
      },
      "source": [
        "Determining the rank of a tensor"
      ]
    },
    {
      "cell_type": "code",
      "metadata": {
        "id": "rdx8L4V6NJrm",
        "colab_type": "code",
        "outputId": "06bc75ec-0be7-41ee-fcd8-5ddc224bffb7",
        "colab": {
          "base_uri": "https://localhost:8080/",
          "height": 34
        }
      },
      "source": [
        "tf.rank(rank2_tensor)"
      ],
      "execution_count": 0,
      "outputs": [
        {
          "output_type": "execute_result",
          "data": {
            "text/plain": [
              "<tf.Tensor: shape=(), dtype=int32, numpy=2>"
            ]
          },
          "metadata": {
            "tags": []
          },
          "execution_count": 11
        }
      ]
    },
    {
      "cell_type": "markdown",
      "metadata": {
        "id": "d5nYyrwnNgfG",
        "colab_type": "text"
      },
      "source": [
        "Shape of a tensor"
      ]
    },
    {
      "cell_type": "code",
      "metadata": {
        "id": "BDyPqAuKNiZu",
        "colab_type": "code",
        "outputId": "3324ea41-99b6-4cdf-f6d6-202949307de5",
        "colab": {
          "base_uri": "https://localhost:8080/",
          "height": 34
        }
      },
      "source": [
        "rank2_tensor.shape"
      ],
      "execution_count": 0,
      "outputs": [
        {
          "output_type": "execute_result",
          "data": {
            "text/plain": [
              "TensorShape([2, 2])"
            ]
          },
          "metadata": {
            "tags": []
          },
          "execution_count": 12
        }
      ]
    },
    {
      "cell_type": "markdown",
      "metadata": {
        "id": "_3ulTWrbN5ST",
        "colab_type": "text"
      },
      "source": [
        "Changing shape of a tensor"
      ]
    },
    {
      "cell_type": "code",
      "metadata": {
        "id": "ssKnVMaMN7NP",
        "colab_type": "code",
        "colab": {}
      },
      "source": [
        "tensor1 = tf.ones([1,2,3])\n",
        "tensor2 = tf.reshape(tensor1,[2,3,1])\n",
        "tensor3 = tf.reshape(tensor2,[3,-1])\n",
        "\n",
        "print(tensor1)\n",
        "print()\n",
        "print(tensor2)\n",
        "print()\n",
        "print(tensor3)"
      ],
      "execution_count": 0,
      "outputs": []
    },
    {
      "cell_type": "markdown",
      "metadata": {
        "id": "LZyrZc7FPzzf",
        "colab_type": "text"
      },
      "source": [
        "# Module 3 - Core Learning Algorithms"
      ]
    },
    {
      "cell_type": "markdown",
      "metadata": {
        "id": "35NffG4ibpwn",
        "colab_type": "text"
      },
      "source": [
        " ## Linear Regression"
      ]
    },
    {
      "cell_type": "code",
      "metadata": {
        "id": "cK9wnJT7cO_k",
        "colab_type": "code",
        "colab": {}
      },
      "source": [
        "!pip install -q sklearn\n",
        "%tensorflow_version 2.x"
      ],
      "execution_count": 0,
      "outputs": []
    },
    {
      "cell_type": "code",
      "metadata": {
        "id": "o-ftSDqeeQn8",
        "colab_type": "code",
        "colab": {}
      },
      "source": [
        "from __future__ import absolute_import, division, print_function, unicode_literals\n",
        "\n",
        "import numpy as np\n",
        "import pandas as pd\n",
        "import matplotlib.pyplot as plt\n",
        "from IPython.display import clear_output\n",
        "from six.moves import urllib\n",
        "\n",
        "import tensorflow.compat.v2.feature_column as fc\n",
        "\n",
        "import tensorflow as tf"
      ],
      "execution_count": 0,
      "outputs": []
    },
    {
      "cell_type": "markdown",
      "metadata": {
        "id": "GGgIO1Q_e_yk",
        "colab_type": "text"
      },
      "source": [
        "Load dataset"
      ]
    },
    {
      "cell_type": "code",
      "metadata": {
        "id": "1d_os8a-fBen",
        "colab_type": "code",
        "colab": {}
      },
      "source": [
        "dftrain = pd.read_csv('https://storage.googleapis.com/tf-datasets/titanic/train.csv') # training data\n",
        "dfeval = pd.read_csv('https://storage.googleapis.com/tf-datasets/titanic/eval.csv') # testing data\n",
        "y_train = dftrain.pop('survived') # removes the survived column from the df and stores it in the given variable\n",
        "y_eval = dfeval.pop('survived')"
      ],
      "execution_count": 0,
      "outputs": []
    },
    {
      "cell_type": "markdown",
      "metadata": {
        "id": "7L1AFPfAgifg",
        "colab_type": "text"
      },
      "source": [
        "View data frames"
      ]
    },
    {
      "cell_type": "code",
      "metadata": {
        "id": "YhnoIctsgkcO",
        "colab_type": "code",
        "colab": {}
      },
      "source": [
        "dftrain.head()"
      ],
      "execution_count": 0,
      "outputs": []
    },
    {
      "cell_type": "code",
      "metadata": {
        "id": "FgoWsVCrguS9",
        "colab_type": "code",
        "colab": {}
      },
      "source": [
        "dfeval.head()"
      ],
      "execution_count": 0,
      "outputs": []
    },
    {
      "cell_type": "markdown",
      "metadata": {
        "id": "42BDrFaudA1d",
        "colab_type": "text"
      },
      "source": [
        "Set up feature columns"
      ]
    },
    {
      "cell_type": "code",
      "metadata": {
        "id": "ktt41Q_1c_sS",
        "colab_type": "code",
        "colab": {}
      },
      "source": [
        "CATEGORICAL_COLUMNS = ['sex', 'n_siblings_spouses', 'parch', 'class', 'deck',\n",
        "                       'embark_town', 'alone']\n",
        "NUMERIC_COLUMNS = ['age', 'fare']\n",
        "\n",
        "feature_columns = []\n",
        "for feature_name in CATEGORICAL_COLUMNS:\n",
        "  vocabulary = dftrain[feature_name].unique()  # gets a list of all unique values from given feature column\n",
        "  feature_columns.append(tf.feature_column.categorical_column_with_vocabulary_list(feature_name, vocabulary))\n",
        "\n",
        "for feature_name in NUMERIC_COLUMNS:\n",
        "  feature_columns.append(tf.feature_column.numeric_column(feature_name, dtype=tf.float32))\n",
        "\n"
      ],
      "execution_count": 0,
      "outputs": []
    },
    {
      "cell_type": "code",
      "metadata": {
        "id": "9ClcrXONdnR9",
        "colab_type": "code",
        "colab": {}
      },
      "source": [
        "print(feature_columns)"
      ],
      "execution_count": 0,
      "outputs": []
    },
    {
      "cell_type": "markdown",
      "metadata": {
        "id": "swnOmLpPZDoB",
        "colab_type": "text"
      },
      "source": [
        "Input function"
      ]
    },
    {
      "cell_type": "code",
      "metadata": {
        "id": "tnyI7dM3ZGaP",
        "colab_type": "code",
        "colab": {}
      },
      "source": [
        "def make_input_fn(data_df, label_df, num_epochs=10, shuffle=True, batch_size=32):\n",
        "  def input_function():  # inner function, this will be returned\n",
        "    ds = tf.data.Dataset.from_tensor_slices((dict(data_df), label_df))  # create tf.data.Dataset object with data and its label\n",
        "    if shuffle:\n",
        "      ds = ds.shuffle(1000)  # randomize order of data\n",
        "    ds = ds.batch(batch_size).repeat(num_epochs)  # split dataset into batches of 32 and repeat process for number of epochs\n",
        "    return ds  # return a batch of the dataset\n",
        "  return input_function  # return a function object for use\n",
        "\n",
        "train_input_fn = make_input_fn(dftrain, y_train)  # here we will call the input_function that was returned to us to get a dataset object we can feed to the model\n",
        "eval_input_fn = make_input_fn(dfeval, y_eval, num_epochs=1, shuffle=False)"
      ],
      "execution_count": 0,
      "outputs": []
    },
    {
      "cell_type": "markdown",
      "metadata": {
        "id": "IUs2Txx-ZJ45",
        "colab_type": "text"
      },
      "source": [
        "Creating the model"
      ]
    },
    {
      "cell_type": "code",
      "metadata": {
        "id": "tzBg7BK7Zyne",
        "colab_type": "code",
        "colab": {}
      },
      "source": [
        "linear_est = tf.estimator.LinearClassifier(feature_columns=feature_columns)\n",
        "# We create a linear estimtor by passing the feature columns we created earlier"
      ],
      "execution_count": 0,
      "outputs": []
    },
    {
      "cell_type": "markdown",
      "metadata": {
        "id": "YDL6NYaQZ1nn",
        "colab_type": "text"
      },
      "source": [
        "Training the model"
      ]
    },
    {
      "cell_type": "code",
      "metadata": {
        "id": "nRk7f0vKZ272",
        "colab_type": "code",
        "outputId": "811de726-37e3-46cc-efc0-517f937efd68",
        "colab": {
          "base_uri": "https://localhost:8080/",
          "height": 34
        }
      },
      "source": [
        "linear_est.train(train_input_fn)  # train\n",
        "result = linear_est.evaluate(eval_input_fn)  # get model metrics/stats by testing on tetsing data\n",
        "\n",
        "clear_output()  # clears console output\n",
        "print(result['accuracy'])  # the result variable is simply a dict of stats about our model"
      ],
      "execution_count": 0,
      "outputs": [
        {
          "output_type": "stream",
          "text": [
            "0.77272725\n"
          ],
          "name": "stdout"
        }
      ]
    },
    {
      "cell_type": "markdown",
      "metadata": {
        "id": "aSgHPEGWcu-a",
        "colab_type": "text"
      },
      "source": [
        "Prediction"
      ]
    },
    {
      "cell_type": "code",
      "metadata": {
        "id": "afYXAvwzcwgH",
        "colab_type": "code",
        "colab": {}
      },
      "source": [
        "pred_dicts = list(linear_est.predict(eval_input_fn))\n",
        "clear_output()"
      ],
      "execution_count": 0,
      "outputs": []
    },
    {
      "cell_type": "code",
      "metadata": {
        "id": "BK_QOw4Rddvj",
        "colab_type": "code",
        "outputId": "d1b5cc1d-bfbe-4468-bdde-1045683ef959",
        "colab": {
          "base_uri": "https://localhost:8080/",
          "height": 187
        }
      },
      "source": [
        "dfeval.loc[0]"
      ],
      "execution_count": 0,
      "outputs": [
        {
          "output_type": "execute_result",
          "data": {
            "text/plain": [
              "sex                          male\n",
              "age                            35\n",
              "n_siblings_spouses              0\n",
              "parch                           0\n",
              "fare                         8.05\n",
              "class                       Third\n",
              "deck                      unknown\n",
              "embark_town           Southampton\n",
              "alone                           y\n",
              "Name: 0, dtype: object"
            ]
          },
          "metadata": {
            "tags": []
          },
          "execution_count": 17
        }
      ]
    },
    {
      "cell_type": "code",
      "metadata": {
        "id": "LCwp1qdvdms2",
        "colab_type": "code",
        "outputId": "373881cc-afd9-4ab7-aef9-c4b043fc9656",
        "colab": {
          "base_uri": "https://localhost:8080/",
          "height": 34
        }
      },
      "source": [
        "y_eval.loc[0]"
      ],
      "execution_count": 0,
      "outputs": [
        {
          "output_type": "execute_result",
          "data": {
            "text/plain": [
              "0"
            ]
          },
          "metadata": {
            "tags": []
          },
          "execution_count": 18
        }
      ]
    },
    {
      "cell_type": "code",
      "metadata": {
        "id": "IK1uQNoDdrCH",
        "colab_type": "code",
        "outputId": "c5a03258-40b6-4093-a2d8-e454870dfde9",
        "colab": {
          "base_uri": "https://localhost:8080/",
          "height": 136
        }
      },
      "source": [
        "pred_dicts[0]"
      ],
      "execution_count": 0,
      "outputs": [
        {
          "output_type": "execute_result",
          "data": {
            "text/plain": [
              "{'all_class_ids': array([0, 1], dtype=int32),\n",
              " 'all_classes': array([b'0', b'1'], dtype=object),\n",
              " 'class_ids': array([0]),\n",
              " 'classes': array([b'0'], dtype=object),\n",
              " 'logistic': array([0.06463394], dtype=float32),\n",
              " 'logits': array([-2.6721983], dtype=float32),\n",
              " 'probabilities': array([0.9353661 , 0.06463394], dtype=float32)}"
            ]
          },
          "metadata": {
            "tags": []
          },
          "execution_count": 22
        }
      ]
    },
    {
      "cell_type": "code",
      "metadata": {
        "id": "S8YaC_7Zd8Sp",
        "colab_type": "code",
        "outputId": "1efc3495-885e-4d48-87c6-0f03eb6cb8f8",
        "colab": {
          "base_uri": "https://localhost:8080/",
          "height": 34
        }
      },
      "source": [
        "list(pred_dicts[0][\"probabilities\"])"
      ],
      "execution_count": 0,
      "outputs": [
        {
          "output_type": "execute_result",
          "data": {
            "text/plain": [
              "[0.9353661, 0.06463394]"
            ]
          },
          "metadata": {
            "tags": []
          },
          "execution_count": 25
        }
      ]
    },
    {
      "cell_type": "markdown",
      "metadata": {
        "id": "5v9imwDKiDpn",
        "colab_type": "text"
      },
      "source": [
        "## Classification"
      ]
    },
    {
      "cell_type": "code",
      "metadata": {
        "id": "0rzVOtuAjJ1S",
        "colab_type": "code",
        "colab": {}
      },
      "source": [
        "!pip install -q sklearn\n",
        "%tensorflow_version 2.x"
      ],
      "execution_count": 0,
      "outputs": []
    },
    {
      "cell_type": "code",
      "metadata": {
        "id": "detQw3zljMoF",
        "colab_type": "code",
        "colab": {}
      },
      "source": [
        "from __future__ import absolute_import, division, print_function, unicode_literals\n",
        "\n",
        "import numpy as np\n",
        "import pandas as pd\n",
        "import matplotlib.pyplot as plt\n",
        "from IPython.display import clear_output\n",
        "from six.moves import urllib\n",
        "\n",
        "import tensorflow.compat.v2.feature_column as fc\n",
        "\n",
        "import tensorflow as tf"
      ],
      "execution_count": 0,
      "outputs": []
    },
    {
      "cell_type": "markdown",
      "metadata": {
        "id": "S6WoTTjejhLw",
        "colab_type": "text"
      },
      "source": [
        "Loading dataset"
      ]
    },
    {
      "cell_type": "code",
      "metadata": {
        "id": "nSarxFuwji7O",
        "colab_type": "code",
        "colab": {}
      },
      "source": [
        "CSV_COLUMN_NAMES = ['SepalLength', 'SepalWidth', 'PetalLength', 'PetalWidth', 'Species']\n",
        "SPECIES = ['Setosa', 'Versicolor', 'Virginica']"
      ],
      "execution_count": 0,
      "outputs": []
    },
    {
      "cell_type": "code",
      "metadata": {
        "id": "gZNzh8x8jp5t",
        "colab_type": "code",
        "colab": {}
      },
      "source": [
        "train_path = tf.keras.utils.get_file(\n",
        "    \"iris_training.csv\", \"https://storage.googleapis.com/download.tensorflow.org/data/iris_training.csv\")\n",
        "test_path = tf.keras.utils.get_file(\n",
        "    \"iris_test.csv\", \"https://storage.googleapis.com/download.tensorflow.org/data/iris_test.csv\")\n",
        "\n",
        "train = pd.read_csv(train_path, names=CSV_COLUMN_NAMES, header=0)\n",
        "test = pd.read_csv(test_path, names=CSV_COLUMN_NAMES, header=0)\n",
        "# Here we use keras (a module inside of TensorFlow) to grab our datasets and read them into a pandas dataframe"
      ],
      "execution_count": 0,
      "outputs": []
    },
    {
      "cell_type": "code",
      "metadata": {
        "id": "DLR3NSDasUtd",
        "colab_type": "code",
        "outputId": "cb2b22e4-1cec-4ae0-fe80-196c1047bf8e",
        "colab": {
          "base_uri": "https://localhost:8080/",
          "height": 204
        }
      },
      "source": [
        "train.head()"
      ],
      "execution_count": 0,
      "outputs": [
        {
          "output_type": "execute_result",
          "data": {
            "text/html": [
              "<div>\n",
              "<style scoped>\n",
              "    .dataframe tbody tr th:only-of-type {\n",
              "        vertical-align: middle;\n",
              "    }\n",
              "\n",
              "    .dataframe tbody tr th {\n",
              "        vertical-align: top;\n",
              "    }\n",
              "\n",
              "    .dataframe thead th {\n",
              "        text-align: right;\n",
              "    }\n",
              "</style>\n",
              "<table border=\"1\" class=\"dataframe\">\n",
              "  <thead>\n",
              "    <tr style=\"text-align: right;\">\n",
              "      <th></th>\n",
              "      <th>SepalLength</th>\n",
              "      <th>SepalWidth</th>\n",
              "      <th>PetalLength</th>\n",
              "      <th>PetalWidth</th>\n",
              "      <th>Species</th>\n",
              "    </tr>\n",
              "  </thead>\n",
              "  <tbody>\n",
              "    <tr>\n",
              "      <th>0</th>\n",
              "      <td>6.4</td>\n",
              "      <td>2.8</td>\n",
              "      <td>5.6</td>\n",
              "      <td>2.2</td>\n",
              "      <td>2</td>\n",
              "    </tr>\n",
              "    <tr>\n",
              "      <th>1</th>\n",
              "      <td>5.0</td>\n",
              "      <td>2.3</td>\n",
              "      <td>3.3</td>\n",
              "      <td>1.0</td>\n",
              "      <td>1</td>\n",
              "    </tr>\n",
              "    <tr>\n",
              "      <th>2</th>\n",
              "      <td>4.9</td>\n",
              "      <td>2.5</td>\n",
              "      <td>4.5</td>\n",
              "      <td>1.7</td>\n",
              "      <td>2</td>\n",
              "    </tr>\n",
              "    <tr>\n",
              "      <th>3</th>\n",
              "      <td>4.9</td>\n",
              "      <td>3.1</td>\n",
              "      <td>1.5</td>\n",
              "      <td>0.1</td>\n",
              "      <td>0</td>\n",
              "    </tr>\n",
              "    <tr>\n",
              "      <th>4</th>\n",
              "      <td>5.7</td>\n",
              "      <td>3.8</td>\n",
              "      <td>1.7</td>\n",
              "      <td>0.3</td>\n",
              "      <td>0</td>\n",
              "    </tr>\n",
              "  </tbody>\n",
              "</table>\n",
              "</div>"
            ],
            "text/plain": [
              "   SepalLength  SepalWidth  PetalLength  PetalWidth  Species\n",
              "0          6.4         2.8          5.6         2.2        2\n",
              "1          5.0         2.3          3.3         1.0        1\n",
              "2          4.9         2.5          4.5         1.7        2\n",
              "3          4.9         3.1          1.5         0.1        0\n",
              "4          5.7         3.8          1.7         0.3        0"
            ]
          },
          "metadata": {
            "tags": []
          },
          "execution_count": 5
        }
      ]
    },
    {
      "cell_type": "markdown",
      "metadata": {
        "id": "1DFEmbPLsZzi",
        "colab_type": "text"
      },
      "source": [
        "Seperate y axis data"
      ]
    },
    {
      "cell_type": "code",
      "metadata": {
        "id": "bl-b5a5JsZOC",
        "colab_type": "code",
        "colab": {}
      },
      "source": [
        "y_train = train.pop(\"Species\")\n",
        "y_test = test.pop(\"Species\")"
      ],
      "execution_count": 0,
      "outputs": []
    },
    {
      "cell_type": "code",
      "metadata": {
        "id": "eohjlHVqslhC",
        "colab_type": "code",
        "outputId": "e99a5e72-79d2-4e4d-aed7-798fffb11d5d",
        "colab": {
          "base_uri": "https://localhost:8080/",
          "height": 119
        }
      },
      "source": [
        "y_train.head()"
      ],
      "execution_count": 0,
      "outputs": [
        {
          "output_type": "execute_result",
          "data": {
            "text/plain": [
              "0    2\n",
              "1    1\n",
              "2    2\n",
              "3    0\n",
              "4    0\n",
              "Name: Species, dtype: int64"
            ]
          },
          "metadata": {
            "tags": []
          },
          "execution_count": 7
        }
      ]
    },
    {
      "cell_type": "markdown",
      "metadata": {
        "id": "U_CEqtNZs1bi",
        "colab_type": "text"
      },
      "source": [
        "Input function"
      ]
    },
    {
      "cell_type": "code",
      "metadata": {
        "id": "GTk5kElCs5Qa",
        "colab_type": "code",
        "colab": {}
      },
      "source": [
        "def input_fn(features, labels, training=True, batch_size=256):\n",
        "    # Convert the inputs to a Dataset.\n",
        "    dataset = tf.data.Dataset.from_tensor_slices((dict(features), labels))\n",
        "\n",
        "    # Shuffle and repeat if you are in training mode.\n",
        "    if training:\n",
        "        dataset = dataset.shuffle(1000).repeat()\n",
        "    \n",
        "    return dataset.batch(batch_size)"
      ],
      "execution_count": 0,
      "outputs": []
    },
    {
      "cell_type": "markdown",
      "metadata": {
        "id": "QbNz5Ftftfzy",
        "colab_type": "text"
      },
      "source": [
        "Feature Columns"
      ]
    },
    {
      "cell_type": "code",
      "metadata": {
        "id": "7cjz-bk3tktJ",
        "colab_type": "code",
        "colab": {}
      },
      "source": [
        "# Feature columns describe how to use the input.\n",
        "my_feature_columns = []\n",
        "for key in train.keys():\n",
        "    my_feature_columns.append(tf.feature_column.numeric_column(key=key))\n",
        "print(my_feature_columns)"
      ],
      "execution_count": 0,
      "outputs": []
    },
    {
      "cell_type": "markdown",
      "metadata": {
        "id": "-4jxK3ERtreJ",
        "colab_type": "text"
      },
      "source": [
        "Building the model"
      ]
    },
    {
      "cell_type": "code",
      "metadata": {
        "id": "bsgRnXprvpfg",
        "colab_type": "code",
        "colab": {}
      },
      "source": [
        "# Build a DNN with 2 hidden layers with 30 and 10 hidden nodes each.\n",
        "classifier = tf.estimator.DNNClassifier(\n",
        "    feature_columns=my_feature_columns,\n",
        "    # Two hidden layers of 30 and 10 nodes respectively.\n",
        "    hidden_units=[30, 10],\n",
        "    # The model must choose between 3 classes.\n",
        "    n_classes=3)"
      ],
      "execution_count": 0,
      "outputs": []
    },
    {
      "cell_type": "markdown",
      "metadata": {
        "id": "KJIxPyidwwpV",
        "colab_type": "text"
      },
      "source": [
        "Training the model"
      ]
    },
    {
      "cell_type": "code",
      "metadata": {
        "id": "mbXOu_Z-wz9W",
        "colab_type": "code",
        "colab": {}
      },
      "source": [
        "classifier.train(\n",
        "    input_fn=lambda: input_fn(train, y_train, training=True),\n",
        "    steps=5000)\n",
        "# We include a lambda to avoid creating an inner function previously"
      ],
      "execution_count": 0,
      "outputs": []
    },
    {
      "cell_type": "markdown",
      "metadata": {
        "id": "PwV2SHFkzJft",
        "colab_type": "text"
      },
      "source": [
        "Evaluation the model"
      ]
    },
    {
      "cell_type": "code",
      "metadata": {
        "id": "4vhxe_JLzLNE",
        "colab_type": "code",
        "outputId": "9e72b1fe-5f87-4c81-bf06-cc4354bc1b82",
        "colab": {
          "base_uri": "https://localhost:8080/",
          "height": 34
        }
      },
      "source": [
        "eval_result = classifier.evaluate(\n",
        "    input_fn=lambda: input_fn(test, y_test, training=False))\n",
        "\n",
        "\n",
        "clear_output()\n",
        "eval_result[\"accuracy\"]"
      ],
      "execution_count": 0,
      "outputs": [
        {
          "output_type": "execute_result",
          "data": {
            "text/plain": [
              "0.93333334"
            ]
          },
          "metadata": {
            "tags": []
          },
          "execution_count": 23
        }
      ]
    },
    {
      "cell_type": "markdown",
      "metadata": {
        "id": "yBzbrUoJ0kjv",
        "colab_type": "text"
      },
      "source": [
        "Predictions"
      ]
    },
    {
      "cell_type": "code",
      "metadata": {
        "id": "BkGWi5Sj0dOH",
        "colab_type": "code",
        "colab": {}
      },
      "source": [
        "def input_fn(features, batch_size=256):\n",
        "    # Convert the inputs to a Dataset without labels.\n",
        "    return tf.data.Dataset.from_tensor_slices(dict(features)).batch(batch_size)"
      ],
      "execution_count": 0,
      "outputs": []
    },
    {
      "cell_type": "code",
      "metadata": {
        "id": "XJbwIZUt0gL9",
        "colab_type": "code",
        "colab": {}
      },
      "source": [
        "features = ['SepalLength', 'SepalWidth', 'PetalLength', 'PetalWidth']\n",
        "predict = {}\n",
        "\n"
      ],
      "execution_count": 0,
      "outputs": []
    },
    {
      "cell_type": "code",
      "metadata": {
        "id": "lCC53cuI1eKm",
        "colab_type": "code",
        "colab": {}
      },
      "source": [
        "print(\"Please type numeric values as prompted.\")\n",
        "for feature in features:\n",
        "  valid = True\n",
        "  while valid: \n",
        "    val = input(feature + \": \")\n",
        "    if not val.isdigit(): valid = False\n",
        "\n",
        "  predict[feature] = [float(val)]"
      ],
      "execution_count": 0,
      "outputs": []
    },
    {
      "cell_type": "code",
      "metadata": {
        "id": "1J5JxKwV1gNN",
        "colab_type": "code",
        "colab": {}
      },
      "source": [
        "predictions = classifier.predict(input_fn=lambda: input_fn(predict))"
      ],
      "execution_count": 0,
      "outputs": []
    },
    {
      "cell_type": "markdown",
      "metadata": {
        "id": "4yMs9rsQ2tXO",
        "colab_type": "text"
      },
      "source": [
        "class_ids = [the predicted class id]\n",
        "probabilities = [class 0 probability, class 1 probability, class 2 probability]\n"
      ]
    },
    {
      "cell_type": "code",
      "metadata": {
        "id": "pc0xXJ0A2JmO",
        "colab_type": "code",
        "outputId": "01dbed79-ae0f-4660-82ef-c720f4eb8876",
        "colab": {
          "base_uri": "https://localhost:8080/",
          "height": 34
        }
      },
      "source": [
        "for pred_dict in predictions:\n",
        "    class_id = pred_dict['class_ids'][0]\n",
        "    probability = pred_dict['probabilities'][class_id]\n",
        "    clear_output()\n",
        "    print(f'{SPECIES[class_id]} with the probability of {100 * probability}%')\n"
      ],
      "execution_count": 0,
      "outputs": [
        {
          "output_type": "stream",
          "text": [
            "Virginica with the probability of 81.41812682151794%\n"
          ],
          "name": "stdout"
        }
      ]
    },
    {
      "cell_type": "markdown",
      "metadata": {
        "id": "84L0llVq4Ggq",
        "colab_type": "text"
      },
      "source": [
        "## Clustering\n"
      ]
    },
    {
      "cell_type": "markdown",
      "metadata": {
        "id": "FJoWfAPS4Jvr",
        "colab_type": "text"
      },
      "source": [
        "## Hidden Markov models"
      ]
    },
    {
      "cell_type": "markdown",
      "metadata": {
        "id": "nReLXO6Ez0o5",
        "colab_type": "text"
      },
      "source": [
        "To create a hidden markov model we need.\n",
        "\n",
        "- States\n",
        "- Observation Distribution\n",
        "- Transition Distribution"
      ]
    },
    {
      "cell_type": "markdown",
      "metadata": {
        "id": "EaoLf_Il0wmT",
        "colab_type": "text"
      },
      "source": [
        "Setup"
      ]
    },
    {
      "cell_type": "code",
      "metadata": {
        "id": "3wHgYCrY0tuU",
        "colab_type": "code",
        "colab": {}
      },
      "source": [
        "%tensorflow_version 2.x  # this line is not required unless you are in a notebook"
      ],
      "execution_count": 0,
      "outputs": []
    },
    {
      "cell_type": "code",
      "metadata": {
        "id": "Q51TuS1x02h1",
        "colab_type": "code",
        "colab": {}
      },
      "source": [
        "import tensorflow_probability as tfp  # We are using a different module from tensorflow this time\n",
        "import tensorflow as tf"
      ],
      "execution_count": 0,
      "outputs": []
    },
    {
      "cell_type": "markdown",
      "metadata": {
        "id": "eg9MaIVa36sk",
        "colab_type": "text"
      },
      "source": [
        "Weather model\n",
        "\n",
        "We will model a simple weather system and try to predict the temperature on each day given the following information.\n",
        "1. Cold days are encoded by a 0 and hot days are encoded by a 1.\n",
        "2. The first day in our sequence has an 80% chance of being cold.\n",
        "3. A cold day has a 30% chance of being followed by a hot day.\n",
        "4. A hot day has a 20% chance of being followed by a cold day.\n",
        "5. On each day the temperature is\n",
        " normally distributed with mean and standard deviation 0 and 5 on\n",
        " a cold day and mean and standard deviation 15 and 10 on a hot day."
      ]
    },
    {
      "cell_type": "code",
      "metadata": {
        "id": "hDT-6Rfx38DV",
        "colab_type": "code",
        "colab": {}
      },
      "source": [
        "tfd = tfp.distributions  # making a shortcut for later on\n",
        "initial_distribution = tfd.Categorical(probs=[0.2, 0.8])  # Refer to point 2 above\n",
        "transition_distribution = tfd.Categorical(probs=[[0.5, 0.5],\n",
        "                                                 [0.2, 0.8]])  # refer to points 3 and 4 above\n",
        "observation_distribution = tfd.Normal(loc=[0., 15.], scale=[5., 10.])  # refer to point 5 above\n",
        "\n",
        "# the loc argument represents the mean and the scale is the standard devitation"
      ],
      "execution_count": 0,
      "outputs": []
    },
    {
      "cell_type": "markdown",
      "metadata": {
        "id": "KEdjVS9G4RGb",
        "colab_type": "text"
      },
      "source": [
        "Create hidden markov model"
      ]
    },
    {
      "cell_type": "code",
      "metadata": {
        "id": "Qe9H3I4b4UHx",
        "colab_type": "code",
        "colab": {}
      },
      "source": [
        "model = tfd.HiddenMarkovModel(\n",
        "    initial_distribution=initial_distribution,\n",
        "    transition_distribution=transition_distribution,\n",
        "    observation_distribution=observation_distribution,\n",
        "    num_steps=7)"
      ],
      "execution_count": 0,
      "outputs": []
    },
    {
      "cell_type": "code",
      "metadata": {
        "id": "Wj5mui-K49Rt",
        "colab_type": "code",
        "outputId": "22d85b7d-23c9-421b-88ed-aadc89eb68f5",
        "colab": {
          "base_uri": "https://localhost:8080/",
          "height": 34
        }
      },
      "source": [
        "mean = model.mean()\n",
        "\n",
        "# due to the way TensorFlow works on a lower level we need to evaluate part of the graph\n",
        "# from within a session to see the value of this tensor\n",
        "\n",
        "# in the new version of tensorflow we need to use tf.compat.v1.Session() rather than just tf.Session()\n",
        "with tf.compat.v1.Session() as sess:  \n",
        "  print(mean.numpy())"
      ],
      "execution_count": 0,
      "outputs": [
        {
          "output_type": "stream",
          "text": [
            "[12.       11.1      10.83     10.748999 10.724699 10.71741  10.715222]\n"
          ],
          "name": "stdout"
        }
      ]
    },
    {
      "cell_type": "markdown",
      "metadata": {
        "id": "1BueA-0n6FtC",
        "colab_type": "text"
      },
      "source": [
        "# Module 4 - NN with Tensorflow"
      ]
    },
    {
      "cell_type": "markdown",
      "metadata": {
        "id": "NanvjFv76LhZ",
        "colab_type": "text"
      },
      "source": [
        ""
      ]
    }
  ]
}