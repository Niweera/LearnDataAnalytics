{
  "nbformat": 4,
  "nbformat_minor": 0,
  "metadata": {
    "colab": {
      "name": "Download_Large_Files_To_Google_Drive.ipynb",
      "provenance": [],
      "authorship_tag": "ABX9TyPL/9m4IoqwAO5s2AWRCQmx",
      "include_colab_link": true
    },
    "kernelspec": {
      "name": "python3",
      "display_name": "Python 3"
    }
  },
  "cells": [
    {
      "cell_type": "markdown",
      "metadata": {
        "id": "view-in-github",
        "colab_type": "text"
      },
      "source": [
        "<a href=\"https://colab.research.google.com/github/Niweera/LearnDataAnalytics/blob/master/Download_Large_Files_To_Google_Drive.ipynb\" target=\"_parent\"><img src=\"https://colab.research.google.com/assets/colab-badge.svg\" alt=\"Open In Colab\"/></a>"
      ]
    },
    {
      "cell_type": "markdown",
      "metadata": {
        "id": "M92aeYmyVsK0",
        "colab_type": "text"
      },
      "source": [
        "# Download large files to Google Drive"
      ]
    },
    {
      "cell_type": "markdown",
      "metadata": {
        "id": "pIyAuLcOVtH0",
        "colab_type": "text"
      },
      "source": [
        "## Direct download using wget"
      ]
    },
    {
      "cell_type": "markdown",
      "metadata": {
        "id": "TddTbo_oVu-j",
        "colab_type": "text"
      },
      "source": [
        "Run this and authenticate Google Drive"
      ]
    },
    {
      "cell_type": "code",
      "metadata": {
        "id": "zvG3TijrVxak",
        "colab_type": "code",
        "colab": {}
      },
      "source": [
        "from google.colab import drive\n",
        "drive.mount('/content/drive/')\n",
        "# Give permissions and copy the code and paste it in the prompt and press enter."
      ],
      "execution_count": 0,
      "outputs": []
    },
    {
      "cell_type": "markdown",
      "metadata": {
        "id": "40u-qlugVzZU",
        "colab_type": "text"
      },
      "source": [
        "Replace the direct download url.\n",
        "\n",
        "The downloaded file will be in the directory \"large_files\" in your Google Drive."
      ]
    },
    {
      "cell_type": "code",
      "metadata": {
        "id": "g6tZO04pV1Dk",
        "colab_type": "code",
        "colab": {}
      },
      "source": [
        "%%shell\n",
        "\n",
        "wget \"https://raw.githubusercontent.com/vincentarelbundock/Rdatasets/master/csv/datasets/Titanic.csv\" -P \"/content/drive/My Drive/large_files\""
      ],
      "execution_count": 0,
      "outputs": []
    },
    {
      "cell_type": "markdown",
      "metadata": {
        "id": "v6Gd2kPBV2s8",
        "colab_type": "text"
      },
      "source": [
        "Go to Google Drive and the file will be there."
      ]
    },
    {
      "cell_type": "markdown",
      "metadata": {
        "id": "BVji_gSAV4bV",
        "colab_type": "text"
      },
      "source": [
        "## Downloading Mega.nz urls"
      ]
    },
    {
      "cell_type": "markdown",
      "metadata": {
        "id": "sTrJmct3V9yk",
        "colab_type": "text"
      },
      "source": [
        "First you need to install the megacmd\n",
        "\n"
      ]
    },
    {
      "cell_type": "code",
      "metadata": {
        "id": "vXBa6nUNV-gj",
        "colab_type": "code",
        "colab": {}
      },
      "source": [
        "from google.colab import drive\n",
        "drive.mount('/content/drive/')\n",
        "# Give permissions and copy the code and paste it in the prompt and press enter."
      ],
      "execution_count": 0,
      "outputs": []
    },
    {
      "cell_type": "code",
      "metadata": {
        "id": "_OP50NXwWACb",
        "colab_type": "code",
        "colab": {}
      },
      "source": [
        "%%shell\n",
        "\n",
        "# Download and install MEGACMD\n",
        "wget \"https://mega.nz/linux/MEGAsync/xUbuntu_18.04/amd64/megacmd-xUbuntu_18.04_amd64.deb\" -P \"/content/downloads\"\n",
        "\n",
        "apt-get install autoconf libtool g++ libcrypto++-dev libz-dev libsqlite3-dev libssl-dev libcurl4-gnutls-dev libreadline-dev libpcre++-dev libsodium-dev libc-ares-dev libfreeimage-dev libavcodec-dev libavutil-dev libavformat-dev libswscale-dev libmediainfo-dev libzen-dev libuv1-dev\n",
        "\n",
        "apt --fix-broken install\n",
        "\n",
        "dpkg -i /content/downloads/megacmd-xUbuntu_18.04_amd64.deb"
      ],
      "execution_count": 0,
      "outputs": []
    },
    {
      "cell_type": "markdown",
      "metadata": {
        "id": "473I710CWePk",
        "colab_type": "text"
      },
      "source": [
        "This login step is not necessary, but it prevents some issues with Mega downloads. \n",
        "\n",
        "Everyone has a Mega account, if not [go make one](https://mega.nz/aff=wzugFsP5JEk), you'll get 50GB storage quota."
      ]
    },
    {
      "cell_type": "code",
      "metadata": {
        "id": "ImuD1R40WCD2",
        "colab_type": "code",
        "colab": {}
      },
      "source": [
        "# Login to Mega server\n",
        "!mega-login \"email\" \"password\""
      ],
      "execution_count": 0,
      "outputs": []
    },
    {
      "cell_type": "code",
      "metadata": {
        "id": "5mIpyqWGWDWz",
        "colab_type": "code",
        "colab": {}
      },
      "source": [
        "# Replace the url and download the file\n",
        "!mega-get -q \"https://mega.nz/file/g04HQCQZ#m_EBId4yRBh2jOPyPPIUIIZJDT3-tB8JNxDI3u8tNWg\" \"/content/drive/My Drive/large_files\""
      ],
      "execution_count": 0,
      "outputs": []
    }
  ]
}